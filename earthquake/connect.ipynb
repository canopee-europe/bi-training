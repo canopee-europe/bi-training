{
 "cells": [
  {
   "cell_type": "code",
   "execution_count": 1,
   "metadata": {},
   "outputs": [],
   "source": [
    "import requests\n",
    "import pandas as pd\n",
    "\n",
    "url = \"https://earthquake.usgs.gov/fdsnws/event/1/query?format=geojson&starttime=2023-05-29&endtime=2023-05-30\"\n",
    "\n",
    "payload = {}\n",
    "headers = {}\n",
    "\n",
    "response = requests.request(\"GET\", url, headers=headers, data=payload)\n",
    "\n",
    "response = response.json()"
   ]
  },
  {
   "cell_type": "code",
   "execution_count": 2,
   "metadata": {},
   "outputs": [
    {
     "data": {
      "text/plain": [
       "183"
      ]
     },
     "execution_count": 2,
     "metadata": {},
     "output_type": "execute_result"
    }
   ],
   "source": [
    "len(response['features'])"
   ]
  },
  {
   "cell_type": "code",
   "execution_count": 3,
   "metadata": {},
   "outputs": [],
   "source": [
    "features = response[\"features\"]"
   ]
  },
  {
   "cell_type": "code",
   "execution_count": 26,
   "metadata": {},
   "outputs": [
    {
     "data": {
      "text/plain": [
       "{'type': 'Feature',\n",
       " 'properties': {'mag': 1.34,\n",
       "  'place': '9km N of North Shore, CA',\n",
       "  'time': 1685390010270,\n",
       "  'updated': 1685390219210,\n",
       "  'tz': None,\n",
       "  'url': 'https://earthquake.usgs.gov/earthquakes/eventpage/ci40237079',\n",
       "  'detail': 'https://earthquake.usgs.gov/fdsnws/event/1/query?eventid=ci40237079&format=geojson',\n",
       "  'felt': None,\n",
       "  'cdi': None,\n",
       "  'mmi': None,\n",
       "  'alert': None,\n",
       "  'status': 'automatic',\n",
       "  'tsunami': 0,\n",
       "  'sig': 28,\n",
       "  'net': 'ci',\n",
       "  'code': '40237079',\n",
       "  'ids': ',ci40237079,',\n",
       "  'sources': ',ci,',\n",
       "  'types': ',nearby-cities,origin,phase-data,scitech-link,',\n",
       "  'nst': 35,\n",
       "  'dmin': 0.05342,\n",
       "  'rms': 0.23,\n",
       "  'gap': 52,\n",
       "  'magType': 'ml',\n",
       "  'type': 'earthquake',\n",
       "  'title': 'M 1.3 - 9km N of North Shore, CA'},\n",
       " 'geometry': {'type': 'Point', 'coordinates': [-115.9553333, 33.6085, 5.49]},\n",
       " 'id': 'ci40237079'}"
      ]
     },
     "execution_count": 26,
     "metadata": {},
     "output_type": "execute_result"
    }
   ],
   "source": [
    "features[1]"
   ]
  },
  {
   "cell_type": "code",
   "execution_count": 31,
   "metadata": {},
   "outputs": [],
   "source": [
    "def get_data(feature):\n",
    "    return {\n",
    "        'id': feature.get('id', None),\n",
    "        'type': feature.get('type', None),\n",
    "        'mag': feature.get('properties', {}).get('mag', None),\n",
    "        'time': feature.get('properties', {}).get('time', None),\n",
    "        'place': feature.get('properties', {}).get('place', None),\n",
    "        'geometry_type': feature.get('geometry', {}).get('type', None),\n",
    "        'longitude': feature.get('geometry', {}).get('coordinates', [None, None, None])[0],\n",
    "        'latitude': feature.get('geometry', {}).get('coordinates', [None, None, None])[1],\n",
    "        'depth': feature.get('geometry', {}).get('coordinates', [None, None, None])[2]\n",
    "    }"
   ]
  },
  {
   "cell_type": "code",
   "execution_count": 32,
   "metadata": {},
   "outputs": [],
   "source": [
    "data = [get_data(feature) for feature in features]\n",
    "df = pd.DataFrame(data)"
   ]
  },
  {
   "cell_type": "code",
   "execution_count": 33,
   "metadata": {},
   "outputs": [],
   "source": [
    "# import datetime\n",
    "# date = datetime.datetime.fromtimestamp(1685389676384/1000)"
   ]
  },
  {
   "cell_type": "code",
   "execution_count": 34,
   "metadata": {},
   "outputs": [
    {
     "data": {
      "text/html": [
       "<div>\n",
       "<style scoped>\n",
       "    .dataframe tbody tr th:only-of-type {\n",
       "        vertical-align: middle;\n",
       "    }\n",
       "\n",
       "    .dataframe tbody tr th {\n",
       "        vertical-align: top;\n",
       "    }\n",
       "\n",
       "    .dataframe thead th {\n",
       "        text-align: right;\n",
       "    }\n",
       "</style>\n",
       "<table border=\"1\" class=\"dataframe\">\n",
       "  <thead>\n",
       "    <tr style=\"text-align: right;\">\n",
       "      <th></th>\n",
       "      <th>id</th>\n",
       "      <th>type</th>\n",
       "      <th>mag</th>\n",
       "      <th>time</th>\n",
       "      <th>place</th>\n",
       "      <th>geometry_type</th>\n",
       "      <th>longitude</th>\n",
       "      <th>latitude</th>\n",
       "      <th>depth</th>\n",
       "    </tr>\n",
       "  </thead>\n",
       "  <tbody>\n",
       "    <tr>\n",
       "      <th>0</th>\n",
       "      <td>pr71411703</td>\n",
       "      <td>Feature</td>\n",
       "      <td>2.30</td>\n",
       "      <td>1685390182540</td>\n",
       "      <td>3 km SE of Boquerón, Puerto Rico</td>\n",
       "      <td>Point</td>\n",
       "      <td>-67.147333</td>\n",
       "      <td>18.000833</td>\n",
       "      <td>15.00</td>\n",
       "    </tr>\n",
       "    <tr>\n",
       "      <th>1</th>\n",
       "      <td>ci40237079</td>\n",
       "      <td>Feature</td>\n",
       "      <td>1.34</td>\n",
       "      <td>1685390010270</td>\n",
       "      <td>9km N of North Shore, CA</td>\n",
       "      <td>Point</td>\n",
       "      <td>-115.955333</td>\n",
       "      <td>33.608500</td>\n",
       "      <td>5.49</td>\n",
       "    </tr>\n",
       "    <tr>\n",
       "      <th>2</th>\n",
       "      <td>nc73891425</td>\n",
       "      <td>Feature</td>\n",
       "      <td>2.35</td>\n",
       "      <td>1685389717440</td>\n",
       "      <td>2km SSE of Yountville, CA</td>\n",
       "      <td>Point</td>\n",
       "      <td>-122.353165</td>\n",
       "      <td>38.384666</td>\n",
       "      <td>4.34</td>\n",
       "    </tr>\n",
       "    <tr>\n",
       "      <th>3</th>\n",
       "      <td>ak0236uqntv0</td>\n",
       "      <td>Feature</td>\n",
       "      <td>2.30</td>\n",
       "      <td>1685389571001</td>\n",
       "      <td>17 km N of Sunrise, Alaska</td>\n",
       "      <td>Point</td>\n",
       "      <td>-149.436000</td>\n",
       "      <td>61.047200</td>\n",
       "      <td>23.30</td>\n",
       "    </tr>\n",
       "    <tr>\n",
       "      <th>4</th>\n",
       "      <td>ak0236uqkvvj</td>\n",
       "      <td>Feature</td>\n",
       "      <td>1.30</td>\n",
       "      <td>1685388758466</td>\n",
       "      <td>31 km NW of Willow, Alaska</td>\n",
       "      <td>Point</td>\n",
       "      <td>-150.496700</td>\n",
       "      <td>61.930600</td>\n",
       "      <td>59.00</td>\n",
       "    </tr>\n",
       "  </tbody>\n",
       "</table>\n",
       "</div>"
      ],
      "text/plain": [
       "             id     type   mag           time  \\\n",
       "0    pr71411703  Feature  2.30  1685390182540   \n",
       "1    ci40237079  Feature  1.34  1685390010270   \n",
       "2    nc73891425  Feature  2.35  1685389717440   \n",
       "3  ak0236uqntv0  Feature  2.30  1685389571001   \n",
       "4  ak0236uqkvvj  Feature  1.30  1685388758466   \n",
       "\n",
       "                              place geometry_type   longitude   latitude  \\\n",
       "0  3 km SE of Boquerón, Puerto Rico         Point  -67.147333  18.000833   \n",
       "1          9km N of North Shore, CA         Point -115.955333  33.608500   \n",
       "2         2km SSE of Yountville, CA         Point -122.353165  38.384666   \n",
       "3        17 km N of Sunrise, Alaska         Point -149.436000  61.047200   \n",
       "4        31 km NW of Willow, Alaska         Point -150.496700  61.930600   \n",
       "\n",
       "   depth  \n",
       "0  15.00  \n",
       "1   5.49  \n",
       "2   4.34  \n",
       "3  23.30  \n",
       "4  59.00  "
      ]
     },
     "execution_count": 34,
     "metadata": {},
     "output_type": "execute_result"
    }
   ],
   "source": [
    "df.head()"
   ]
  },
  {
   "cell_type": "code",
   "execution_count": 35,
   "metadata": {},
   "outputs": [],
   "source": [
    "df = df.dropna()"
   ]
  },
  {
   "cell_type": "code",
   "execution_count": 36,
   "metadata": {},
   "outputs": [],
   "source": [
    "df = df[(df.type==\"Feature\") & (df.geometry_type==\"Point\")]"
   ]
  },
  {
   "cell_type": "code",
   "execution_count": 37,
   "metadata": {},
   "outputs": [],
   "source": [
    "df = df.drop([\"type\", \"geometry_type\"], axis=1)"
   ]
  },
  {
   "cell_type": "code",
   "execution_count": 38,
   "metadata": {},
   "outputs": [
    {
     "data": {
      "text/html": [
       "<div>\n",
       "<style scoped>\n",
       "    .dataframe tbody tr th:only-of-type {\n",
       "        vertical-align: middle;\n",
       "    }\n",
       "\n",
       "    .dataframe tbody tr th {\n",
       "        vertical-align: top;\n",
       "    }\n",
       "\n",
       "    .dataframe thead th {\n",
       "        text-align: right;\n",
       "    }\n",
       "</style>\n",
       "<table border=\"1\" class=\"dataframe\">\n",
       "  <thead>\n",
       "    <tr style=\"text-align: right;\">\n",
       "      <th></th>\n",
       "      <th>id</th>\n",
       "      <th>mag</th>\n",
       "      <th>time</th>\n",
       "      <th>place</th>\n",
       "      <th>longitude</th>\n",
       "      <th>latitude</th>\n",
       "      <th>depth</th>\n",
       "    </tr>\n",
       "  </thead>\n",
       "  <tbody>\n",
       "    <tr>\n",
       "      <th>0</th>\n",
       "      <td>pr71411703</td>\n",
       "      <td>2.30</td>\n",
       "      <td>1685390182540</td>\n",
       "      <td>3 km SE of Boquerón, Puerto Rico</td>\n",
       "      <td>-67.147333</td>\n",
       "      <td>18.000833</td>\n",
       "      <td>15.00</td>\n",
       "    </tr>\n",
       "    <tr>\n",
       "      <th>1</th>\n",
       "      <td>ci40237079</td>\n",
       "      <td>1.34</td>\n",
       "      <td>1685390010270</td>\n",
       "      <td>9km N of North Shore, CA</td>\n",
       "      <td>-115.955333</td>\n",
       "      <td>33.608500</td>\n",
       "      <td>5.49</td>\n",
       "    </tr>\n",
       "    <tr>\n",
       "      <th>2</th>\n",
       "      <td>nc73891425</td>\n",
       "      <td>2.35</td>\n",
       "      <td>1685389717440</td>\n",
       "      <td>2km SSE of Yountville, CA</td>\n",
       "      <td>-122.353165</td>\n",
       "      <td>38.384666</td>\n",
       "      <td>4.34</td>\n",
       "    </tr>\n",
       "    <tr>\n",
       "      <th>3</th>\n",
       "      <td>ak0236uqntv0</td>\n",
       "      <td>2.30</td>\n",
       "      <td>1685389571001</td>\n",
       "      <td>17 km N of Sunrise, Alaska</td>\n",
       "      <td>-149.436000</td>\n",
       "      <td>61.047200</td>\n",
       "      <td>23.30</td>\n",
       "    </tr>\n",
       "    <tr>\n",
       "      <th>4</th>\n",
       "      <td>ak0236uqkvvj</td>\n",
       "      <td>1.30</td>\n",
       "      <td>1685388758466</td>\n",
       "      <td>31 km NW of Willow, Alaska</td>\n",
       "      <td>-150.496700</td>\n",
       "      <td>61.930600</td>\n",
       "      <td>59.00</td>\n",
       "    </tr>\n",
       "  </tbody>\n",
       "</table>\n",
       "</div>"
      ],
      "text/plain": [
       "             id   mag           time                             place  \\\n",
       "0    pr71411703  2.30  1685390182540  3 km SE of Boquerón, Puerto Rico   \n",
       "1    ci40237079  1.34  1685390010270          9km N of North Shore, CA   \n",
       "2    nc73891425  2.35  1685389717440         2km SSE of Yountville, CA   \n",
       "3  ak0236uqntv0  2.30  1685389571001        17 km N of Sunrise, Alaska   \n",
       "4  ak0236uqkvvj  1.30  1685388758466        31 km NW of Willow, Alaska   \n",
       "\n",
       "    longitude   latitude  depth  \n",
       "0  -67.147333  18.000833  15.00  \n",
       "1 -115.955333  33.608500   5.49  \n",
       "2 -122.353165  38.384666   4.34  \n",
       "3 -149.436000  61.047200  23.30  \n",
       "4 -150.496700  61.930600  59.00  "
      ]
     },
     "execution_count": 38,
     "metadata": {},
     "output_type": "execute_result"
    }
   ],
   "source": [
    "df.head()"
   ]
  },
  {
   "cell_type": "code",
   "execution_count": null,
   "metadata": {},
   "outputs": [],
   "source": []
  }
 ],
 "metadata": {
  "kernelspec": {
   "display_name": "earthquake",
   "language": "python",
   "name": "python3"
  },
  "language_info": {
   "codemirror_mode": {
    "name": "ipython",
    "version": 3
   },
   "file_extension": ".py",
   "mimetype": "text/x-python",
   "name": "python",
   "nbconvert_exporter": "python",
   "pygments_lexer": "ipython3",
   "version": "3.10.7"
  },
  "orig_nbformat": 4
 },
 "nbformat": 4,
 "nbformat_minor": 2
}
